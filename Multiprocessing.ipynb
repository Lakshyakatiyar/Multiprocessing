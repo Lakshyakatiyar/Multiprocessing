{
 "cells": [
  {
   "cell_type": "markdown",
   "id": "e7609572-f6aa-4bdf-8553-6d986dce56c9",
   "metadata": {},
   "source": [
    "1.Multiprocessing:\n",
    "Multiprocessing in Python refers to the ability to execute multiple processes simultaneously. Each process has its own Python interpreter and memory space, which allows for parallel execution on multiple CPU cores.\n",
    "\n",
    "Why is it useful?:\n",
    "\n",
    "True Parallelism: Unlike multithreading, multiprocessing achieves true parallelism by running separate processes on different CPU cores.\n",
    "Bypassing GIL: Multiprocessing overcomes the limitations of the Global Interpreter Lock (GIL) in CPython, making it suitable for CPU-bound tasks.\n",
    "Isolation: Each process has its own memory space, reducing the risk of data corruption and race conditions.\n",
    "Scalability: Better scalability for CPU-intensive tasks, leading to significant performance improvements in multi-core systems."
   ]
  },
  {
   "cell_type": "markdown",
   "id": "be6e1f95-1dd5-4c60-8fdf-f42df3d9ccff",
   "metadata": {},
   "source": [
    "2.Differences between Multiprocessing and Multithreading:\n",
    "\n",
    "Execution Model:\n",
    "\n",
    "Multiprocessing: Uses multiple processes, each with its own Python interpreter and memory space.\n",
    "Multithreading: Uses multiple threads within a single process, sharing the same memory space.\n",
    "Parallelism:\n",
    "\n",
    "Multiprocessing: Achieves true parallelism by running processes on multiple CPU cores.\n",
    "Multithreading: Limited by the GIL in CPython, which prevents multiple threads from executing Python bytecode simultaneously.\n",
    "Resource Sharing:\n",
    "\n",
    "Multiprocessing: Processes do not share memory space; inter-process communication is required to share data.\n",
    "Multithreading: Threads share the same memory space, making it easier to share data but requiring careful synchronization.\n",
    "Use Case:\n",
    "\n",
    "Multiprocessing: Suitable for CPU-bound tasks that require heavy computation.\n",
    "Multithreading: Suitable for I/O-bound tasks that involve waiting for external resources.\n",
    "Overhead:\n",
    "\n",
    "Multiprocessing: Higher overhead due to process creation and context switching.\n",
    "Multithreading: Lower overhead since threads share the same memory space."
   ]
  },
  {
   "cell_type": "code",
   "execution_count": 1,
   "id": "6bb05988-6b26-4000-87b9-4b17d2e19554",
   "metadata": {},
   "outputs": [
    {
     "name": "stdout",
     "output_type": "stream",
     "text": [
      "Hello from the new process!\n"
     ]
    }
   ],
   "source": [
    "import multiprocessing\n",
    "\n",
    "def print_message():\n",
    "    print(\"Hello from the new process!\")\n",
    "\n",
    "if __name__ == '__main__':\n",
    "    process = multiprocessing.Process(target=print_message)\n",
    "    process.start()\n",
    "    process.join()\n"
   ]
  },
  {
   "cell_type": "markdown",
   "id": "9894baa0-da4a-4a78-9bcb-7f3f15c2ae55",
   "metadata": {},
   "source": [
    "4.Multiprocessing Pool:\n",
    "A multiprocessing pool in Python is a collection of worker processes that can execute tasks in parallel. It allows for easy parallelization of a function across multiple input values, distributing the workload among the worker processes.\n",
    "\n",
    "Why is it used?:\n",
    "\n",
    "Simplifies Parallelism: Provides a simple way to parallelize the execution of functions.\n",
    "Efficient Resource Use: Manages a pool of worker processes, ensuring efficient use of system resources.\n",
    "Load Balancing: Automatically distributes tasks among worker processes, balancing the load.\n",
    "Convenient API: Offers easy-to-use methods like map, apply, and starmap for task distribution and result collection."
   ]
  },
  {
   "cell_type": "code",
   "execution_count": 2,
   "id": "6c65e129-dc3e-42ae-ad1e-b0d8edcf359a",
   "metadata": {},
   "outputs": [
    {
     "name": "stdout",
     "output_type": "stream",
     "text": [
      "[1, 4, 9, 16, 25]\n"
     ]
    }
   ],
   "source": [
    "import multiprocessing\n",
    "\n",
    "def square(x):\n",
    "    return x * x\n",
    "\n",
    "if __name__ == '__main__':\n",
    "    with multiprocessing.Pool(processes=4) as pool:\n",
    "        results = pool.map(square, [1, 2, 3, 4, 5])\n",
    "        print(results)\n"
   ]
  },
  {
   "cell_type": "code",
   "execution_count": 3,
   "id": "d75ce53f-ae56-4425-a68e-802220ea7ca8",
   "metadata": {},
   "outputs": [
    {
     "name": "stdout",
     "output_type": "stream",
     "text": [
      "Process Process-6: 1\n",
      "Process Process-7: 2\n",
      "Process Process-8: 3\n",
      "Process Process-9: 4\n"
     ]
    }
   ],
   "source": [
    "import multiprocessing\n",
    "\n",
    "def print_number(number):\n",
    "    print(f\"Process {multiprocessing.current_process().name}: {number}\")\n",
    "\n",
    "if __name__ == '__main__':\n",
    "    numbers = [1, 2, 3, 4]\n",
    "    processes = []\n",
    "\n",
    "    for number in numbers:\n",
    "        process = multiprocessing.Process(target=print_number, args=(number,))\n",
    "        processes.append(process)\n",
    "        process.start()\n",
    "\n",
    "    for process in processes:\n",
    "        process.join()\n"
   ]
  },
  {
   "cell_type": "code",
   "execution_count": null,
   "id": "a4a8cdd6-6b22-4cb3-9d95-b65f078c6f08",
   "metadata": {},
   "outputs": [],
   "source": []
  }
 ],
 "metadata": {
  "kernelspec": {
   "display_name": "Python 3 (ipykernel)",
   "language": "python",
   "name": "python3"
  },
  "language_info": {
   "codemirror_mode": {
    "name": "ipython",
    "version": 3
   },
   "file_extension": ".py",
   "mimetype": "text/x-python",
   "name": "python",
   "nbconvert_exporter": "python",
   "pygments_lexer": "ipython3",
   "version": "3.10.8"
  }
 },
 "nbformat": 4,
 "nbformat_minor": 5
}
